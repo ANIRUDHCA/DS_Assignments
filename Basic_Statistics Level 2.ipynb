{
 "cells": [
  {
   "cell_type": "code",
   "execution_count": 34,
   "id": "6d1887b2",
   "metadata": {},
   "outputs": [],
   "source": [
    "import matplotlib.pyplot as plt\n",
    "import seaborn as sns\n",
    "import pandas as pd\n",
    "from scipy import stats"
   ]
  },
  {
   "cell_type": "markdown",
   "id": "789c2d83",
   "metadata": {},
   "source": [
    "### SET 1"
   ]
  },
  {
   "cell_type": "markdown",
   "id": "001b3f34",
   "metadata": {},
   "source": [
    "### Q1"
   ]
  },
  {
   "cell_type": "code",
   "execution_count": 35,
   "id": "c1b0628b",
   "metadata": {},
   "outputs": [
    {
     "data": {
      "text/html": [
       "<div>\n",
       "<style scoped>\n",
       "    .dataframe tbody tr th:only-of-type {\n",
       "        vertical-align: middle;\n",
       "    }\n",
       "\n",
       "    .dataframe tbody tr th {\n",
       "        vertical-align: top;\n",
       "    }\n",
       "\n",
       "    .dataframe thead th {\n",
       "        text-align: right;\n",
       "    }\n",
       "</style>\n",
       "<table border=\"1\" class=\"dataframe\">\n",
       "  <thead>\n",
       "    <tr style=\"text-align: right;\">\n",
       "      <th></th>\n",
       "      <th>0</th>\n",
       "    </tr>\n",
       "  </thead>\n",
       "  <tbody>\n",
       "    <tr>\n",
       "      <th>0</th>\n",
       "      <td>24.23</td>\n",
       "    </tr>\n",
       "    <tr>\n",
       "      <th>1</th>\n",
       "      <td>25.53</td>\n",
       "    </tr>\n",
       "    <tr>\n",
       "      <th>2</th>\n",
       "      <td>25.41</td>\n",
       "    </tr>\n",
       "    <tr>\n",
       "      <th>3</th>\n",
       "      <td>24.14</td>\n",
       "    </tr>\n",
       "    <tr>\n",
       "      <th>4</th>\n",
       "      <td>29.62</td>\n",
       "    </tr>\n",
       "    <tr>\n",
       "      <th>5</th>\n",
       "      <td>28.25</td>\n",
       "    </tr>\n",
       "    <tr>\n",
       "      <th>6</th>\n",
       "      <td>25.81</td>\n",
       "    </tr>\n",
       "    <tr>\n",
       "      <th>7</th>\n",
       "      <td>24.39</td>\n",
       "    </tr>\n",
       "    <tr>\n",
       "      <th>8</th>\n",
       "      <td>40.26</td>\n",
       "    </tr>\n",
       "    <tr>\n",
       "      <th>9</th>\n",
       "      <td>32.95</td>\n",
       "    </tr>\n",
       "    <tr>\n",
       "      <th>10</th>\n",
       "      <td>91.36</td>\n",
       "    </tr>\n",
       "    <tr>\n",
       "      <th>11</th>\n",
       "      <td>25.99</td>\n",
       "    </tr>\n",
       "    <tr>\n",
       "      <th>12</th>\n",
       "      <td>39.42</td>\n",
       "    </tr>\n",
       "    <tr>\n",
       "      <th>13</th>\n",
       "      <td>26.71</td>\n",
       "    </tr>\n",
       "    <tr>\n",
       "      <th>14</th>\n",
       "      <td>35.00</td>\n",
       "    </tr>\n",
       "  </tbody>\n",
       "</table>\n",
       "</div>"
      ],
      "text/plain": [
       "        0\n",
       "0   24.23\n",
       "1   25.53\n",
       "2   25.41\n",
       "3   24.14\n",
       "4   29.62\n",
       "5   28.25\n",
       "6   25.81\n",
       "7   24.39\n",
       "8   40.26\n",
       "9   32.95\n",
       "10  91.36\n",
       "11  25.99\n",
       "12  39.42\n",
       "13  26.71\n",
       "14  35.00"
      ]
     },
     "execution_count": 35,
     "metadata": {},
     "output_type": "execute_result"
    }
   ],
   "source": [
    "x =pd.DataFrame([24.23,25.53,25.41,24.14,29.62,28.25,25.81,24.39,40.26,32.95,91.36,25.99,39.42,26.71,35.00])\n",
    "x"
   ]
  },
  {
   "cell_type": "code",
   "execution_count": 37,
   "id": "67d9facd",
   "metadata": {},
   "outputs": [
    {
     "data": {
      "image/png": "[encoded data removed]",
      "text/plain": [
       "<Figure size 432x288 with 1 Axes>"
      ]
     },
     "metadata": {
      "needs_background": "light"
     },
     "output_type": "display_data"
    }
   ],
   "source": [
    "plt.boxplot(x)\n",
    "plt.show()"
   ]
  },
  {
   "cell_type": "code",
   "execution_count": 38,
   "id": "8d49ad99",
   "metadata": {},
   "outputs": [
    {
     "data": {
      "text/plain": [
       "0    33.271333\n",
       "dtype: float64"
      ]
     },
     "execution_count": 38,
     "metadata": {},
     "output_type": "execute_result"
    }
   ],
   "source": [
    "x.mean()"
   ]
  },
  {
   "cell_type": "code",
   "execution_count": 39,
   "id": "d95881de",
   "metadata": {},
   "outputs": [
    {
     "data": {
      "text/plain": [
       "0    287.146612\n",
       "dtype: float64"
      ]
     },
     "execution_count": 39,
     "metadata": {},
     "output_type": "execute_result"
    }
   ],
   "source": [
    "x.var()"
   ]
  },
  {
   "cell_type": "code",
   "execution_count": 40,
   "id": "acd5bd94",
   "metadata": {},
   "outputs": [
    {
     "data": {
      "text/plain": [
       "0    16.945401\n",
       "dtype: float64"
      ]
     },
     "execution_count": 40,
     "metadata": {},
     "output_type": "execute_result"
    }
   ],
   "source": [
    "x.std()"
   ]
  },
  {
   "cell_type": "markdown",
   "id": "6e05a99f",
   "metadata": {},
   "source": [
    "### Q4"
   ]
  },
  {
   "cell_type": "code",
   "execution_count": 41,
   "id": "16957ee4",
   "metadata": {},
   "outputs": [
    {
     "data": {
      "text/plain": [
       "0.02450373751562501"
      ]
     },
     "execution_count": 41,
     "metadata": {},
     "output_type": "execute_result"
    }
   ],
   "source": [
    "stats.binom.pmf(1,5,1/200)"
   ]
  },
  {
   "cell_type": "markdown",
   "id": "52cc7332",
   "metadata": {},
   "source": [
    "### SET 2"
   ]
  },
  {
   "cell_type": "markdown",
   "id": "39094165",
   "metadata": {},
   "source": [
    "### Q1"
   ]
  },
  {
   "cell_type": "code",
   "execution_count": 3,
   "id": "997b2a55",
   "metadata": {},
   "outputs": [],
   "source": [
    " P1 = stats.norm.cdf(50,45,8)"
   ]
  },
  {
   "cell_type": "code",
   "execution_count": 3,
   "id": "82040f94",
   "metadata": {},
   "outputs": [
    {
     "data": {
      "text/plain": [
       "0.7340144709512995"
      ]
     },
     "execution_count": 3,
     "metadata": {},
     "output_type": "execute_result"
    }
   ],
   "source": [
    "P1"
   ]
  },
  {
   "cell_type": "code",
   "execution_count": 4,
   "id": "e84c09b4",
   "metadata": {},
   "outputs": [
    {
     "data": {
      "text/plain": [
       "0.26598552904870054"
      ]
     },
     "execution_count": 4,
     "metadata": {},
     "output_type": "execute_result"
    }
   ],
   "source": [
    "1-P1"
   ]
  },
  {
   "cell_type": "markdown",
   "id": "6266ceef",
   "metadata": {},
   "source": [
    "### Q2"
   ]
  },
  {
   "cell_type": "code",
   "execution_count": 5,
   "id": "7d205a3d",
   "metadata": {},
   "outputs": [
    {
     "data": {
      "text/plain": [
       "0.8413447460685429"
      ]
     },
     "execution_count": 5,
     "metadata": {},
     "output_type": "execute_result"
    }
   ],
   "source": [
    "P1 = stats.norm.cdf (44,38,6)\n",
    "P1"
   ]
  },
  {
   "cell_type": "code",
   "execution_count": 6,
   "id": "ea533eba",
   "metadata": {},
   "outputs": [
    {
     "data": {
      "text/plain": [
       "0.5"
      ]
     },
     "execution_count": 6,
     "metadata": {},
     "output_type": "execute_result"
    }
   ],
   "source": [
    "P2 = stats.norm .cdf(38,38,6)\n",
    "P2"
   ]
  },
  {
   "cell_type": "code",
   "execution_count": 7,
   "id": "706f4deb",
   "metadata": {},
   "outputs": [
    {
     "data": {
      "text/plain": [
       "0.3413447460685429"
      ]
     },
     "execution_count": 7,
     "metadata": {},
     "output_type": "execute_result"
    }
   ],
   "source": [
    "P1 - P2"
   ]
  },
  {
   "cell_type": "markdown",
   "id": "c802474d",
   "metadata": {},
   "source": [
    "(P1 - P2) < P1 Hence the conclusion is FALSE"
   ]
  },
  {
   "cell_type": "code",
   "execution_count": 8,
   "id": "b2690af4",
   "metadata": {},
   "outputs": [
    {
     "data": {
      "text/plain": [
       "0.09121121972586788"
      ]
     },
     "execution_count": 8,
     "metadata": {},
     "output_type": "execute_result"
    }
   ],
   "source": [
    "P3 = stats.norm.cdf(30,38,6)\n",
    "P3"
   ]
  },
  {
   "cell_type": "code",
   "execution_count": 7,
   "id": "27d6e45a",
   "metadata": {},
   "outputs": [
    {
     "data": {
      "text/plain": [
       "36.48"
      ]
     },
     "execution_count": 7,
     "metadata": {},
     "output_type": "execute_result"
    }
   ],
   "source": [
    "9.12/100*(400)"
   ]
  },
  {
   "cell_type": "markdown",
   "id": "626c3757",
   "metadata": {},
   "source": [
    "Number of employees ~ 36 Hence conclusion is TRUE"
   ]
  },
  {
   "cell_type": "markdown",
   "id": "ecc0d1e4",
   "metadata": {},
   "source": [
    "### Q4"
   ]
  },
  {
   "cell_type": "code",
   "execution_count": 10,
   "id": "0f1b2570",
   "metadata": {},
   "outputs": [
    {
     "data": {
      "text/plain": [
       "(48.48341392902199, 151.516586070978)"
      ]
     },
     "execution_count": 10,
     "metadata": {},
     "output_type": "execute_result"
    }
   ],
   "source": [
    "stats.norm.interval(.99,100,20)"
   ]
  },
  {
   "cell_type": "markdown",
   "id": "825f1774",
   "metadata": {},
   "source": [
    "### Q5"
   ]
  },
  {
   "cell_type": "markdown",
   "id": "eb0c249e",
   "metadata": {},
   "source": [
    "P1 ~ N(5,3^2),\n",
    "P2 ~ n(7,4^2)"
   ]
  },
  {
   "cell_type": "markdown",
   "id": "776933b5",
   "metadata": {},
   "source": [
    "P ~ N(5+7,3^2+4^2)"
   ]
  },
  {
   "cell_type": "code",
   "execution_count": 11,
   "id": "ae57a4f9",
   "metadata": {},
   "outputs": [],
   "source": [
    "Dollar_range = stats.norm.interval(.95,12,5)"
   ]
  },
  {
   "cell_type": "code",
   "execution_count": 12,
   "id": "09e23f20",
   "metadata": {},
   "outputs": [
    {
     "data": {
      "text/plain": [
       "(2.2001800772997306, 21.79981992270027)"
      ]
     },
     "execution_count": 12,
     "metadata": {},
     "output_type": "execute_result"
    }
   ],
   "source": [
    "Dollar_range"
   ]
  },
  {
   "cell_type": "code",
   "execution_count": 13,
   "id": "fbc2a624",
   "metadata": {},
   "outputs": [],
   "source": [
    "Rupee_range = (2.2001800772997306*45, 21.79981992270027*45)\n"
   ]
  },
  {
   "cell_type": "code",
   "execution_count": 14,
   "id": "d4b5c592",
   "metadata": {},
   "outputs": [
    {
     "data": {
      "text/plain": [
       "(99.00810347848788, 980.9918965215121)"
      ]
     },
     "execution_count": 14,
     "metadata": {},
     "output_type": "execute_result"
    }
   ],
   "source": [
    "Rupee_range"
   ]
  },
  {
   "cell_type": "markdown",
   "id": "ef1598c4",
   "metadata": {},
   "source": [
    "b)"
   ]
  },
  {
   "cell_type": "code",
   "execution_count": 15,
   "id": "25f855b7",
   "metadata": {},
   "outputs": [
    {
     "data": {
      "text/plain": [
       "3.7757318652426353"
      ]
     },
     "execution_count": 15,
     "metadata": {},
     "output_type": "execute_result"
    }
   ],
   "source": [
    "stats.norm.ppf(.05,12,5)"
   ]
  },
  {
   "cell_type": "code",
   "execution_count": 16,
   "id": "24a2c23a",
   "metadata": {},
   "outputs": [
    {
     "data": {
      "text/plain": [
       "169.90793393591858"
      ]
     },
     "execution_count": 16,
     "metadata": {},
     "output_type": "execute_result"
    }
   ],
   "source": [
    "3.7757318652426353*45"
   ]
  },
  {
   "cell_type": "markdown",
   "id": "20aada41",
   "metadata": {},
   "source": [
    "c)"
   ]
  },
  {
   "cell_type": "code",
   "execution_count": 17,
   "id": "b500e43c",
   "metadata": {},
   "outputs": [
    {
     "data": {
      "text/plain": [
       "0.0477903522728147"
      ]
     },
     "execution_count": 17,
     "metadata": {},
     "output_type": "execute_result"
    }
   ],
   "source": [
    "stats.norm.cdf(0,5,3)"
   ]
  },
  {
   "cell_type": "code",
   "execution_count": 18,
   "id": "ef707715",
   "metadata": {},
   "outputs": [
    {
     "data": {
      "text/plain": [
       "0.040059156863817086"
      ]
     },
     "execution_count": 18,
     "metadata": {},
     "output_type": "execute_result"
    }
   ],
   "source": [
    "stats.norm.cdf(0,7,4)"
   ]
  },
  {
   "cell_type": "markdown",
   "id": "8edecb9d",
   "metadata": {},
   "source": [
    "Since probability of profit of second division of the company is lesser compared to division 1, The probability of making a loss is larger in division 2."
   ]
  },
  {
   "cell_type": "markdown",
   "id": "a5848c25",
   "metadata": {},
   "source": [
    "### SET 4"
   ]
  },
  {
   "cell_type": "markdown",
   "id": "59a97896",
   "metadata": {},
   "source": [
    "### Q3"
   ]
  },
  {
   "cell_type": "code",
   "execution_count": 20,
   "id": "7bb08f8d",
   "metadata": {},
   "outputs": [
    {
     "data": {
      "text/plain": [
       "4.0"
      ]
     },
     "execution_count": 20,
     "metadata": {},
     "output_type": "execute_result"
    }
   ],
   "source": [
    "n = 100\n",
    "std = 40\n",
    "standard_error = std/n**0.5\n",
    "standard_error"
   ]
  },
  {
   "cell_type": "code",
   "execution_count": 30,
   "id": "f9f5a94c",
   "metadata": {},
   "outputs": [
    {
     "data": {
      "text/plain": [
       "0.10564977366685535"
      ]
     },
     "execution_count": 30,
     "metadata": {},
     "output_type": "execute_result"
    }
   ],
   "source": [
    "P1 = stats.norm.cdf(45,50,standard_error)\n",
    "P1"
   ]
  },
  {
   "cell_type": "code",
   "execution_count": 22,
   "id": "c7539db4",
   "metadata": {},
   "outputs": [
    {
     "data": {
      "text/plain": [
       "0.8943502263331446"
      ]
     },
     "execution_count": 22,
     "metadata": {},
     "output_type": "execute_result"
    }
   ],
   "source": [
    "P2 = stats.norm.cdf(55,50,standard_error)\n",
    "P2"
   ]
  },
  {
   "cell_type": "code",
   "execution_count": 23,
   "id": "da2caa30",
   "metadata": {},
   "outputs": [
    {
     "data": {
      "text/plain": [
       "0.7887004526662893"
      ]
     },
     "execution_count": 23,
     "metadata": {},
     "output_type": "execute_result"
    }
   ],
   "source": [
    "P3 = P2-P1\n",
    "P3"
   ]
  },
  {
   "cell_type": "markdown",
   "id": "2c69183d",
   "metadata": {},
   "source": [
    "probability of that there will be investigation in any week,P4 = 1-P3"
   ]
  },
  {
   "cell_type": "code",
   "execution_count": 24,
   "id": "524c3650",
   "metadata": {},
   "outputs": [
    {
     "data": {
      "text/plain": [
       "0.2112995473337107"
      ]
     },
     "execution_count": 24,
     "metadata": {},
     "output_type": "execute_result"
    }
   ],
   "source": [
    "P4 = 1-P3 \n",
    "P4"
   ]
  },
  {
   "cell_type": "code",
   "execution_count": 25,
   "id": "8925aec0",
   "metadata": {},
   "outputs": [
    {
     "data": {
      "text/plain": [
       "0.2113"
      ]
     },
     "execution_count": 25,
     "metadata": {},
     "output_type": "execute_result"
    }
   ],
   "source": [
    "round(P4,4)"
   ]
  },
  {
   "cell_type": "markdown",
   "id": "18f2ddd2",
   "metadata": {},
   "source": []
  },
  {
   "cell_type": "markdown",
   "id": "c85863ff",
   "metadata": {},
   "source": [
    "Probability of investigation = 0.5\n",
    "\n",
    "Probabiliy of not investigation = 1-0.5\n",
    "                                =0.5"
   ]
  },
  {
   "cell_type": "markdown",
   "id": "244d6183",
   "metadata": {},
   "source": []
  }
 ],
 "metadata": {
  "kernelspec": {
   "display_name": "Python 3 (ipykernel)",
   "language": "python",
   "name": "python3"
  },
  "language_info": {
   "codemirror_mode": {
    "name": "ipython",
    "version": 3
   },
   "file_extension": ".py",
   "mimetype": "text/x-python",
   "name": "python",
   "nbconvert_exporter": "python",
   "pygments_lexer": "ipython3",
   "version": "3.9.7"
  }
 },
 "nbformat": 4,
 "nbformat_minor": 5
}
